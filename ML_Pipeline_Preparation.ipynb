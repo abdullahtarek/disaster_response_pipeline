{
 "cells": [
  {
   "cell_type": "markdown",
   "metadata": {},
   "source": [
    "# ML Pipeline Preparation\n",
    "Follow the instructions below to help you create your ML pipeline.\n",
    "### 1. Import libraries and load data from database.\n",
    "- Import Python libraries\n",
    "- Load dataset from database with [`read_sql_table`](https://pandas.pydata.org/pandas-docs/stable/generated/pandas.read_sql_table.html)\n",
    "- Define feature and target variables X and Y"
   ]
  },
  {
   "cell_type": "code",
   "execution_count": 19,
   "metadata": {},
   "outputs": [
    {
     "name": "stdout",
     "output_type": "stream",
     "text": [
      "Collecting pandas\n",
      "  Downloading https://files.pythonhosted.org/packages/7b/e4/ba4a6408fbc4f66bc7c84d15787fd3d50aa8ef11e47273e8a29d535d25ee/pandas-0.25.3-cp35-cp35m-win_amd64.whl (8.8MB)\n",
      "Requirement not upgraded as not directly required: python-dateutil>=2.6.1 in c:\\users\\abdullah\\anaconda3\\envs\\tensorflowenv\\lib\\site-packages (from pandas) (2.7.3)\n",
      "Requirement not upgraded as not directly required: numpy>=1.13.3 in c:\\users\\abdullah\\anaconda3\\envs\\tensorflowenv\\lib\\site-packages (from pandas) (1.14.5)\n",
      "Requirement not upgraded as not directly required: pytz>=2017.2 in c:\\users\\abdullah\\anaconda3\\envs\\tensorflowenv\\lib\\site-packages (from pandas) (2018.4)\n",
      "Requirement not upgraded as not directly required: six>=1.5 in c:\\users\\abdullah\\anaconda3\\envs\\tensorflowenv\\lib\\site-packages (from python-dateutil>=2.6.1->pandas) (1.11.0)\n",
      "Installing collected packages: pandas\n",
      "  Found existing installation: pandas 0.23.3\n",
      "    Uninstalling pandas-0.23.3:\n",
      "      Successfully uninstalled pandas-0.23.3\n"
     ]
    },
    {
     "name": "stderr",
     "output_type": "stream",
     "text": [
      "tensorflow-gpu 1.8.0 has requirement tensorboard<1.9.0,>=1.8.0, but you'll have tensorboard 1.12.2 which is incompatible.\n",
      "Could not install packages due to an EnvironmentError: [WinError 5] Access is denied: 'C:\\\\Users\\\\Abdullah\\\\AppData\\\\Local\\\\Temp\\\\pip-uninstall-i7v4aa2t\\\\users\\\\abdullah\\\\anaconda3\\\\envs\\\\tensorflowenv\\\\lib\\\\site-packages\\\\pandas\\\\io\\\\msgpack\\\\_packer.cp35-win_amd64.pyd'\n",
      "Consider using the `--user` option or check the permissions.\n",
      "\n",
      "You are using pip version 10.0.1, however version 20.0.2 is available.\n",
      "You should consider upgrading via the 'python -m pip install --upgrade pip' command.\n"
     ]
    }
   ],
   "source": [
    "!pip install --upgrade pandas"
   ]
  },
  {
   "cell_type": "code",
   "execution_count": 72,
   "metadata": {},
   "outputs": [],
   "source": [
    "# import libraries\n",
    "import pandas as pd\n",
    "import numpy as np\n",
    "import re\n",
    "from sqlalchemy import create_engine\n",
    "\n",
    "import nltk\n",
    "from nltk.stem import WordNetLemmatizer \n",
    "from nltk.corpus import stopwords\n",
    "\n",
    "from sklearn.multioutput import MultiOutputClassifier\n",
    "\n",
    "from sklearn.feature_extraction.text import CountVectorizer\n",
    "from sklearn.feature_extraction.text import TfidfTransformer\n",
    "\n",
    "from sklearn.pipeline import Pipeline\n",
    "from sklearn.neighbors import KNeighborsClassifier\n",
    "\n",
    "from sklearn.metrics import classification_report\n",
    "from sklearn.metrics import accuracy_score , f1_score,  precision_score, recall_score\n",
    "from sklearn.model_selection import train_test_split\n",
    "import pickle\n",
    "from sklearn.model_selection import GridSearchCV"
   ]
  },
  {
   "cell_type": "code",
   "execution_count": 37,
   "metadata": {},
   "outputs": [
    {
     "name": "stderr",
     "output_type": "stream",
     "text": [
      "[nltk_data] Downloading package punkt to\n",
      "[nltk_data]     C:\\Users\\Abdullah\\AppData\\Roaming\\nltk_data...\n",
      "[nltk_data]   Package punkt is already up-to-date!\n",
      "[nltk_data] Downloading package wordnet to\n",
      "[nltk_data]     C:\\Users\\Abdullah\\AppData\\Roaming\\nltk_data...\n",
      "[nltk_data]   Package wordnet is already up-to-date!\n",
      "[nltk_data] Downloading package stopwords to\n",
      "[nltk_data]     C:\\Users\\Abdullah\\AppData\\Roaming\\nltk_data...\n",
      "[nltk_data]   Package stopwords is already up-to-date!\n"
     ]
    },
    {
     "data": {
      "text/plain": [
       "True"
      ]
     },
     "execution_count": 37,
     "metadata": {},
     "output_type": "execute_result"
    }
   ],
   "source": [
    "nltk.download('punkt')\n",
    "nltk.download('wordnet')\n",
    "nltk.download('stopwords')"
   ]
  },
  {
   "cell_type": "code",
   "execution_count": 38,
   "metadata": {},
   "outputs": [],
   "source": [
    "# load data from database\n",
    "engine = create_engine('sqlite:///disaster_database.db')\n",
    "df = pd.read_sql_table('disaster_messages',engine.connect())"
   ]
  },
  {
   "cell_type": "code",
   "execution_count": 39,
   "metadata": {},
   "outputs": [
    {
     "data": {
      "text/html": [
       "<div>\n",
       "<style scoped>\n",
       "    .dataframe tbody tr th:only-of-type {\n",
       "        vertical-align: middle;\n",
       "    }\n",
       "\n",
       "    .dataframe tbody tr th {\n",
       "        vertical-align: top;\n",
       "    }\n",
       "\n",
       "    .dataframe thead th {\n",
       "        text-align: right;\n",
       "    }\n",
       "</style>\n",
       "<table border=\"1\" class=\"dataframe\">\n",
       "  <thead>\n",
       "    <tr style=\"text-align: right;\">\n",
       "      <th></th>\n",
       "      <th>id</th>\n",
       "      <th>message</th>\n",
       "      <th>original</th>\n",
       "      <th>genre</th>\n",
       "      <th>related</th>\n",
       "      <th>request</th>\n",
       "      <th>offer</th>\n",
       "      <th>aid_related</th>\n",
       "      <th>medical_help</th>\n",
       "      <th>medical_products</th>\n",
       "      <th>...</th>\n",
       "      <th>aid_centers</th>\n",
       "      <th>other_infrastructure</th>\n",
       "      <th>weather_related</th>\n",
       "      <th>floods</th>\n",
       "      <th>storm</th>\n",
       "      <th>fire</th>\n",
       "      <th>earthquake</th>\n",
       "      <th>cold</th>\n",
       "      <th>other_weather</th>\n",
       "      <th>direct_report</th>\n",
       "    </tr>\n",
       "  </thead>\n",
       "  <tbody>\n",
       "    <tr>\n",
       "      <th>0</th>\n",
       "      <td>2</td>\n",
       "      <td>Weather update - a cold front from Cuba that c...</td>\n",
       "      <td>Un front froid se retrouve sur Cuba ce matin. ...</td>\n",
       "      <td>direct</td>\n",
       "      <td>1</td>\n",
       "      <td>0</td>\n",
       "      <td>0</td>\n",
       "      <td>0</td>\n",
       "      <td>0</td>\n",
       "      <td>0</td>\n",
       "      <td>...</td>\n",
       "      <td>0</td>\n",
       "      <td>0</td>\n",
       "      <td>0</td>\n",
       "      <td>0</td>\n",
       "      <td>0</td>\n",
       "      <td>0</td>\n",
       "      <td>0</td>\n",
       "      <td>0</td>\n",
       "      <td>0</td>\n",
       "      <td>0</td>\n",
       "    </tr>\n",
       "    <tr>\n",
       "      <th>1</th>\n",
       "      <td>7</td>\n",
       "      <td>Is the Hurricane over or is it not over</td>\n",
       "      <td>Cyclone nan fini osinon li pa fini</td>\n",
       "      <td>direct</td>\n",
       "      <td>1</td>\n",
       "      <td>0</td>\n",
       "      <td>0</td>\n",
       "      <td>1</td>\n",
       "      <td>0</td>\n",
       "      <td>0</td>\n",
       "      <td>...</td>\n",
       "      <td>0</td>\n",
       "      <td>0</td>\n",
       "      <td>1</td>\n",
       "      <td>0</td>\n",
       "      <td>1</td>\n",
       "      <td>0</td>\n",
       "      <td>0</td>\n",
       "      <td>0</td>\n",
       "      <td>0</td>\n",
       "      <td>0</td>\n",
       "    </tr>\n",
       "    <tr>\n",
       "      <th>2</th>\n",
       "      <td>8</td>\n",
       "      <td>Looking for someone but no name</td>\n",
       "      <td>Patnm, di Maryani relem pou li banm nouvel li ...</td>\n",
       "      <td>direct</td>\n",
       "      <td>1</td>\n",
       "      <td>0</td>\n",
       "      <td>0</td>\n",
       "      <td>0</td>\n",
       "      <td>0</td>\n",
       "      <td>0</td>\n",
       "      <td>...</td>\n",
       "      <td>0</td>\n",
       "      <td>0</td>\n",
       "      <td>0</td>\n",
       "      <td>0</td>\n",
       "      <td>0</td>\n",
       "      <td>0</td>\n",
       "      <td>0</td>\n",
       "      <td>0</td>\n",
       "      <td>0</td>\n",
       "      <td>0</td>\n",
       "    </tr>\n",
       "    <tr>\n",
       "      <th>3</th>\n",
       "      <td>9</td>\n",
       "      <td>UN reports Leogane 80-90 destroyed. Only Hospi...</td>\n",
       "      <td>UN reports Leogane 80-90 destroyed. Only Hospi...</td>\n",
       "      <td>direct</td>\n",
       "      <td>1</td>\n",
       "      <td>1</td>\n",
       "      <td>0</td>\n",
       "      <td>1</td>\n",
       "      <td>0</td>\n",
       "      <td>1</td>\n",
       "      <td>...</td>\n",
       "      <td>0</td>\n",
       "      <td>0</td>\n",
       "      <td>0</td>\n",
       "      <td>0</td>\n",
       "      <td>0</td>\n",
       "      <td>0</td>\n",
       "      <td>0</td>\n",
       "      <td>0</td>\n",
       "      <td>0</td>\n",
       "      <td>0</td>\n",
       "    </tr>\n",
       "    <tr>\n",
       "      <th>4</th>\n",
       "      <td>12</td>\n",
       "      <td>says: west side of Haiti, rest of the country ...</td>\n",
       "      <td>facade ouest d Haiti et le reste du pays aujou...</td>\n",
       "      <td>direct</td>\n",
       "      <td>1</td>\n",
       "      <td>0</td>\n",
       "      <td>0</td>\n",
       "      <td>0</td>\n",
       "      <td>0</td>\n",
       "      <td>0</td>\n",
       "      <td>...</td>\n",
       "      <td>0</td>\n",
       "      <td>0</td>\n",
       "      <td>0</td>\n",
       "      <td>0</td>\n",
       "      <td>0</td>\n",
       "      <td>0</td>\n",
       "      <td>0</td>\n",
       "      <td>0</td>\n",
       "      <td>0</td>\n",
       "      <td>0</td>\n",
       "    </tr>\n",
       "  </tbody>\n",
       "</table>\n",
       "<p>5 rows × 40 columns</p>\n",
       "</div>"
      ],
      "text/plain": [
       "   id                                            message  \\\n",
       "0   2  Weather update - a cold front from Cuba that c...   \n",
       "1   7            Is the Hurricane over or is it not over   \n",
       "2   8                    Looking for someone but no name   \n",
       "3   9  UN reports Leogane 80-90 destroyed. Only Hospi...   \n",
       "4  12  says: west side of Haiti, rest of the country ...   \n",
       "\n",
       "                                            original   genre  related  \\\n",
       "0  Un front froid se retrouve sur Cuba ce matin. ...  direct        1   \n",
       "1                 Cyclone nan fini osinon li pa fini  direct        1   \n",
       "2  Patnm, di Maryani relem pou li banm nouvel li ...  direct        1   \n",
       "3  UN reports Leogane 80-90 destroyed. Only Hospi...  direct        1   \n",
       "4  facade ouest d Haiti et le reste du pays aujou...  direct        1   \n",
       "\n",
       "   request  offer  aid_related  medical_help  medical_products      ...        \\\n",
       "0        0      0            0             0                 0      ...         \n",
       "1        0      0            1             0                 0      ...         \n",
       "2        0      0            0             0                 0      ...         \n",
       "3        1      0            1             0                 1      ...         \n",
       "4        0      0            0             0                 0      ...         \n",
       "\n",
       "   aid_centers  other_infrastructure  weather_related  floods  storm  fire  \\\n",
       "0            0                     0                0       0      0     0   \n",
       "1            0                     0                1       0      1     0   \n",
       "2            0                     0                0       0      0     0   \n",
       "3            0                     0                0       0      0     0   \n",
       "4            0                     0                0       0      0     0   \n",
       "\n",
       "   earthquake  cold  other_weather  direct_report  \n",
       "0           0     0              0              0  \n",
       "1           0     0              0              0  \n",
       "2           0     0              0              0  \n",
       "3           0     0              0              0  \n",
       "4           0     0              0              0  \n",
       "\n",
       "[5 rows x 40 columns]"
      ]
     },
     "execution_count": 39,
     "metadata": {},
     "output_type": "execute_result"
    }
   ],
   "source": [
    "df.head()"
   ]
  },
  {
   "cell_type": "code",
   "execution_count": null,
   "metadata": {},
   "outputs": [],
   "source": []
  },
  {
   "cell_type": "code",
   "execution_count": 40,
   "metadata": {},
   "outputs": [],
   "source": [
    "X = df[\"message\"]\n",
    "y = df.drop(columns=[\"id\",'message',\"original\",\"genre\"])\n",
    "label_names = y.columns\n",
    "y=y"
   ]
  },
  {
   "cell_type": "markdown",
   "metadata": {},
   "source": [
    "### 2. Write a tokenization function to process your text data"
   ]
  },
  {
   "cell_type": "code",
   "execution_count": 41,
   "metadata": {},
   "outputs": [],
   "source": [
    "def tokenize(text):\n",
    "    lemmatizer = WordNetLemmatizer() \n",
    "    #remove punctuation and uwanted characters\n",
    "    text=re.sub(\"r[^a-zA-Z0-9]\",\" \",text)\n",
    "    #tokenzie the words\n",
    "    words= nltk.word_tokenize(text)\n",
    "    #lower case the words and lemmantize them\n",
    "    words = [lemmatizer.lemmatize(word.lower()) for word in words]\n",
    "    #remove stop words\n",
    "    words= [word for word in words if word not in stopwords.words('english')]\n",
    "    \n",
    "    return words"
   ]
  },
  {
   "cell_type": "markdown",
   "metadata": {},
   "source": [
    "### 3. Build a machine learning pipeline\n",
    "This machine pipeline should take in the `message` column as input and output classification results on the other 36 categories in the dataset. You may find the [MultiOutputClassifier](http://scikit-learn.org/stable/modules/generated/sklearn.multioutput.MultiOutputClassifier.html) helpful for predicting multiple target variables."
   ]
  },
  {
   "cell_type": "code",
   "execution_count": 77,
   "metadata": {},
   "outputs": [],
   "source": [
    "pipeline = Pipeline([\n",
    "    ('bow',CountVectorizer(tokenizer=tokenize)),\n",
    "    ('tfidf',TfidfTransformer()),\n",
    "    ('classifier',MultiOutputClassifier(KNeighborsClassifier(n_jobs=-1))) \n",
    "])"
   ]
  },
  {
   "cell_type": "markdown",
   "metadata": {},
   "source": [
    "### 4. Train pipeline\n",
    "- Split data into train and test sets\n",
    "- Train pipeline"
   ]
  },
  {
   "cell_type": "code",
   "execution_count": 43,
   "metadata": {},
   "outputs": [],
   "source": [
    "\n",
    "\n",
    "X_train, X_test, y_train, y_test = train_test_split(X, y, test_size=0.2)"
   ]
  },
  {
   "cell_type": "code",
   "execution_count": 44,
   "metadata": {},
   "outputs": [],
   "source": [
    "clf = pipeline.fit(X_train,y_train)"
   ]
  },
  {
   "cell_type": "markdown",
   "metadata": {},
   "source": [
    "### 5. Test your model\n",
    "Report the f1 score, precision and recall for each output category of the dataset. You can do this by iterating through the columns and calling sklearn's `classification_report` on each."
   ]
  },
  {
   "cell_type": "code",
   "execution_count": 48,
   "metadata": {},
   "outputs": [],
   "source": [
    "ypred= clf.predict(X_test)"
   ]
  },
  {
   "cell_type": "code",
   "execution_count": 63,
   "metadata": {},
   "outputs": [
    {
     "name": "stdout",
     "output_type": "stream",
     "text": [
      "                        precision    recall  f1-score   support\n",
      "\n",
      "               related       0.85      0.89      0.87      4020\n",
      "               request       0.66      0.55      0.60       908\n",
      "                 offer       0.00      0.00      0.00        21\n",
      "           aid_related       0.67      0.59      0.62      2205\n",
      "          medical_help       0.46      0.15      0.23       416\n",
      "      medical_products       0.67      0.25      0.36       267\n",
      "     search_and_rescue       0.57      0.08      0.14       163\n",
      "              security       0.00      0.00      0.00        86\n",
      "              military       0.78      0.12      0.21       169\n",
      "           child_alone       0.00      0.00      0.00         0\n",
      "                 water       0.63      0.35      0.45       311\n",
      "                  food       0.64      0.40      0.50       603\n",
      "               shelter       0.62      0.30      0.40       471\n",
      "              clothing       0.60      0.28      0.38        86\n",
      "                 money       0.48      0.11      0.17       133\n",
      "        missing_people       0.75      0.05      0.09        64\n",
      "              refugees       0.39      0.07      0.12       189\n",
      "                 death       0.71      0.22      0.33       254\n",
      "             other_aid       0.31      0.09      0.14       698\n",
      "infrastructure_related       0.25      0.04      0.07       316\n",
      "             transport       0.60      0.12      0.19       250\n",
      "             buildings       0.55      0.19      0.29       254\n",
      "           electricity       0.68      0.14      0.24       119\n",
      "                 tools       0.00      0.00      0.00        32\n",
      "             hospitals       0.00      0.00      0.00        53\n",
      "                 shops       0.00      0.00      0.00        23\n",
      "           aid_centers       0.00      0.00      0.00        57\n",
      "  other_infrastructure       0.25      0.03      0.06       215\n",
      "       weather_related       0.71      0.56      0.63      1487\n",
      "                floods       0.65      0.24      0.35       461\n",
      "                 storm       0.63      0.42      0.51       488\n",
      "                  fire       0.78      0.13      0.22        54\n",
      "            earthquake       0.75      0.52      0.61       508\n",
      "                  cold       0.64      0.12      0.21       114\n",
      "         other_weather       0.47      0.06      0.11       278\n",
      "         direct_report       0.60      0.44      0.51      1028\n",
      "\n",
      "             micro avg       0.72      0.49      0.58     16801\n",
      "             macro avg       0.48      0.21      0.27     16801\n",
      "          weighted avg       0.66      0.49      0.54     16801\n",
      "           samples avg       0.59      0.44      0.45     16801\n",
      "\n"
     ]
    },
    {
     "name": "stderr",
     "output_type": "stream",
     "text": [
      "C:\\Users\\Abdullah\\Anaconda3\\envs\\tensorflowEnv\\lib\\site-packages\\sklearn\\metrics\\classification.py:1437: UndefinedMetricWarning: Precision and F-score are ill-defined and being set to 0.0 in labels with no predicted samples.\n",
      "  'precision', 'predicted', average, warn_for)\n",
      "C:\\Users\\Abdullah\\Anaconda3\\envs\\tensorflowEnv\\lib\\site-packages\\sklearn\\metrics\\classification.py:1439: UndefinedMetricWarning: Recall and F-score are ill-defined and being set to 0.0 in labels with no true samples.\n",
      "  'recall', 'true', average, warn_for)\n",
      "C:\\Users\\Abdullah\\Anaconda3\\envs\\tensorflowEnv\\lib\\site-packages\\sklearn\\metrics\\classification.py:1437: UndefinedMetricWarning: Precision and F-score are ill-defined and being set to 0.0 in samples with no predicted labels.\n",
      "  'precision', 'predicted', average, warn_for)\n",
      "C:\\Users\\Abdullah\\Anaconda3\\envs\\tensorflowEnv\\lib\\site-packages\\sklearn\\metrics\\classification.py:1439: UndefinedMetricWarning: Recall and F-score are ill-defined and being set to 0.0 in samples with no true labels.\n",
      "  'recall', 'true', average, warn_for)\n"
     ]
    }
   ],
   "source": [
    "print(classification_report(np.array(y_test,ndmin=2),np.array(ypred,ndmin=2), labels=list(range(36)),target_names= label_names ))"
   ]
  },
  {
   "cell_type": "code",
   "execution_count": null,
   "metadata": {},
   "outputs": [],
   "source": []
  },
  {
   "cell_type": "code",
   "execution_count": null,
   "metadata": {},
   "outputs": [],
   "source": []
  },
  {
   "cell_type": "code",
   "execution_count": null,
   "metadata": {},
   "outputs": [],
   "source": []
  },
  {
   "cell_type": "code",
   "execution_count": null,
   "metadata": {},
   "outputs": [],
   "source": []
  },
  {
   "cell_type": "markdown",
   "metadata": {},
   "source": [
    "### 6. Improve your model\n",
    "Use grid search to find better parameters. "
   ]
  },
  {
   "cell_type": "code",
   "execution_count": 86,
   "metadata": {},
   "outputs": [],
   "source": [
    "parameters = {\n",
    "    \"classifier__estimator__n_neighbors\":[3,5,7],\n",
    "    \"classifier__estimator__weights\":[\"uniform\",\"distance\"]\n",
    "}\n",
    "\n",
    "cv = GridSearchCV(clf, parameters)"
   ]
  },
  {
   "cell_type": "code",
   "execution_count": 87,
   "metadata": {},
   "outputs": [
    {
     "name": "stderr",
     "output_type": "stream",
     "text": [
      "C:\\Users\\Abdullah\\Anaconda3\\envs\\tensorflowEnv\\lib\\site-packages\\sklearn\\model_selection\\_split.py:1978: FutureWarning: The default value of cv will change from 3 to 5 in version 0.22. Specify it explicitly to silence this warning.\n",
      "  warnings.warn(CV_WARNING, FutureWarning)\n"
     ]
    },
    {
     "data": {
      "text/plain": [
       "GridSearchCV(cv='warn', error_score='raise-deprecating',\n",
       "             estimator=Pipeline(memory=None,\n",
       "                                steps=[('bow',\n",
       "                                        CountVectorizer(analyzer='word',\n",
       "                                                        binary=False,\n",
       "                                                        decode_error='strict',\n",
       "                                                        dtype=<class 'numpy.int64'>,\n",
       "                                                        encoding='utf-8',\n",
       "                                                        input='content',\n",
       "                                                        lowercase=True,\n",
       "                                                        max_df=1.0,\n",
       "                                                        max_features=None,\n",
       "                                                        min_df=1,\n",
       "                                                        ngram_range=(1, 1),\n",
       "                                                        preprocessor=None,\n",
       "                                                        stop_words=None,\n",
       "                                                        strip_accents=None...\n",
       "                                                                                             leaf_size=30,\n",
       "                                                                                             metric='minkowski',\n",
       "                                                                                             metric_params=None,\n",
       "                                                                                             n_jobs=None,\n",
       "                                                                                             n_neighbors=5,\n",
       "                                                                                             p=2,\n",
       "                                                                                             weights='uniform'),\n",
       "                                                              n_jobs=None))],\n",
       "                                verbose=False),\n",
       "             iid='warn', n_jobs=None,\n",
       "             param_grid={'classifier__estimator__n_neighbors': [3, 5, 7],\n",
       "                         'classifier__estimator__weights': ['uniform',\n",
       "                                                            'distance']},\n",
       "             pre_dispatch='2*n_jobs', refit=True, return_train_score=False,\n",
       "             scoring=None, verbose=0)"
      ]
     },
     "execution_count": 87,
     "metadata": {},
     "output_type": "execute_result"
    }
   ],
   "source": [
    "cv.fit(X_train,y_train)"
   ]
  },
  {
   "cell_type": "code",
   "execution_count": 88,
   "metadata": {},
   "outputs": [],
   "source": [
    "knn_best_estimator = cv.best_estimator_"
   ]
  },
  {
   "cell_type": "code",
   "execution_count": 90,
   "metadata": {},
   "outputs": [],
   "source": [
    "filename = 'knn_best_model.sav'\n",
    "pickle.dump(knn_best_estimator, open(filename, 'wb'))"
   ]
  },
  {
   "cell_type": "code",
   "execution_count": null,
   "metadata": {},
   "outputs": [],
   "source": []
  },
  {
   "cell_type": "markdown",
   "metadata": {},
   "source": [
    "### 7. Test your model\n",
    "Show the accuracy, precision, and recall of the tuned model.  \n",
    "\n",
    "Since this project focuses on code quality, process, and  pipelines, there is no minimum performance metric needed to pass. However, make sure to fine tune your models for accuracy, precision and recall to make your project stand out - especially for your portfolio!"
   ]
  },
  {
   "cell_type": "code",
   "execution_count": 91,
   "metadata": {},
   "outputs": [],
   "source": [
    "ypred_knn_best= knn_best_estimator.predict(X_test)"
   ]
  },
  {
   "cell_type": "code",
   "execution_count": 92,
   "metadata": {},
   "outputs": [
    {
     "name": "stdout",
     "output_type": "stream",
     "text": [
      "                        precision    recall  f1-score   support\n",
      "\n",
      "               related       0.85      0.89      0.87      4020\n",
      "               request       0.66      0.55      0.60       908\n",
      "                 offer       0.00      0.00      0.00        21\n",
      "           aid_related       0.67      0.59      0.62      2205\n",
      "          medical_help       0.46      0.15      0.23       416\n",
      "      medical_products       0.67      0.25      0.36       267\n",
      "     search_and_rescue       0.57      0.08      0.14       163\n",
      "              security       0.00      0.00      0.00        86\n",
      "              military       0.78      0.12      0.21       169\n",
      "           child_alone       0.00      0.00      0.00         0\n",
      "                 water       0.63      0.35      0.45       311\n",
      "                  food       0.64      0.40      0.50       603\n",
      "               shelter       0.62      0.30      0.40       471\n",
      "              clothing       0.60      0.28      0.38        86\n",
      "                 money       0.48      0.11      0.17       133\n",
      "        missing_people       0.75      0.05      0.09        64\n",
      "              refugees       0.39      0.07      0.12       189\n",
      "                 death       0.71      0.22      0.33       254\n",
      "             other_aid       0.31      0.09      0.14       698\n",
      "infrastructure_related       0.25      0.04      0.07       316\n",
      "             transport       0.60      0.12      0.19       250\n",
      "             buildings       0.55      0.19      0.29       254\n",
      "           electricity       0.68      0.14      0.24       119\n",
      "                 tools       0.00      0.00      0.00        32\n",
      "             hospitals       0.00      0.00      0.00        53\n",
      "                 shops       0.00      0.00      0.00        23\n",
      "           aid_centers       0.00      0.00      0.00        57\n",
      "  other_infrastructure       0.25      0.03      0.06       215\n",
      "       weather_related       0.71      0.56      0.63      1487\n",
      "                floods       0.65      0.24      0.35       461\n",
      "                 storm       0.63      0.42      0.51       488\n",
      "                  fire       0.78      0.13      0.22        54\n",
      "            earthquake       0.75      0.52      0.61       508\n",
      "                  cold       0.64      0.12      0.21       114\n",
      "         other_weather       0.47      0.06      0.11       278\n",
      "         direct_report       0.60      0.44      0.51      1028\n",
      "\n",
      "             micro avg       0.72      0.49      0.58     16801\n",
      "             macro avg       0.48      0.21      0.27     16801\n",
      "          weighted avg       0.66      0.49      0.54     16801\n",
      "           samples avg       0.59      0.44      0.45     16801\n",
      "\n"
     ]
    },
    {
     "name": "stderr",
     "output_type": "stream",
     "text": [
      "C:\\Users\\Abdullah\\Anaconda3\\envs\\tensorflowEnv\\lib\\site-packages\\sklearn\\metrics\\classification.py:1437: UndefinedMetricWarning: Precision and F-score are ill-defined and being set to 0.0 in labels with no predicted samples.\n",
      "  'precision', 'predicted', average, warn_for)\n",
      "C:\\Users\\Abdullah\\Anaconda3\\envs\\tensorflowEnv\\lib\\site-packages\\sklearn\\metrics\\classification.py:1439: UndefinedMetricWarning: Recall and F-score are ill-defined and being set to 0.0 in labels with no true samples.\n",
      "  'recall', 'true', average, warn_for)\n",
      "C:\\Users\\Abdullah\\Anaconda3\\envs\\tensorflowEnv\\lib\\site-packages\\sklearn\\metrics\\classification.py:1437: UndefinedMetricWarning: Precision and F-score are ill-defined and being set to 0.0 in samples with no predicted labels.\n",
      "  'precision', 'predicted', average, warn_for)\n",
      "C:\\Users\\Abdullah\\Anaconda3\\envs\\tensorflowEnv\\lib\\site-packages\\sklearn\\metrics\\classification.py:1439: UndefinedMetricWarning: Recall and F-score are ill-defined and being set to 0.0 in samples with no true labels.\n",
      "  'recall', 'true', average, warn_for)\n"
     ]
    }
   ],
   "source": [
    "print(classification_report(np.array(y_test,ndmin=2),np.array(ypred_knn_best,ndmin=2), labels=list(range(36)),target_names= label_names ))"
   ]
  },
  {
   "cell_type": "markdown",
   "metadata": {},
   "source": [
    "### 8. Try improving your model further. Here are a few ideas:\n",
    "* try other machine learning algorithms\n",
    "* add other features besides the TF-IDF"
   ]
  },
  {
   "cell_type": "code",
   "execution_count": null,
   "metadata": {},
   "outputs": [],
   "source": []
  },
  {
   "cell_type": "code",
   "execution_count": 50,
   "metadata": {},
   "outputs": [],
   "source": [
    "from sklearn.linear_model import LogisticRegression"
   ]
  },
  {
   "cell_type": "code",
   "execution_count": 52,
   "metadata": {},
   "outputs": [],
   "source": [
    "pipeline_2 = Pipeline([\n",
    "    ('bow',CountVectorizer(tokenizer=tokenize)),\n",
    "    ('tfidf',TfidfTransformer()),\n",
    "    ('classifier',LogisticRegression( multi_class=\"multinomial\",n_job=-1) ) \n",
    "])"
   ]
  },
  {
   "cell_type": "code",
   "execution_count": 53,
   "metadata": {},
   "outputs": [],
   "source": [
    "logitstic_regression = pipeline.fit(X_train,y_train)"
   ]
  },
  {
   "cell_type": "code",
   "execution_count": 54,
   "metadata": {},
   "outputs": [],
   "source": [
    "ypred_logistic_regression = logitstic_regression.predict(X_test)"
   ]
  },
  {
   "cell_type": "code",
   "execution_count": 62,
   "metadata": {},
   "outputs": [
    {
     "name": "stdout",
     "output_type": "stream",
     "text": [
      "                        precision    recall  f1-score   support\n",
      "\n",
      "               related       0.85      0.89      0.87      4020\n",
      "               request       0.66      0.55      0.60       908\n",
      "                 offer       0.00      0.00      0.00        21\n",
      "           aid_related       0.67      0.59      0.62      2205\n",
      "          medical_help       0.46      0.15      0.23       416\n",
      "      medical_products       0.67      0.25      0.36       267\n",
      "     search_and_rescue       0.57      0.08      0.14       163\n",
      "              security       0.00      0.00      0.00        86\n",
      "              military       0.78      0.12      0.21       169\n",
      "           child_alone       0.00      0.00      0.00         0\n",
      "                 water       0.63      0.35      0.45       311\n",
      "                  food       0.64      0.40      0.50       603\n",
      "               shelter       0.62      0.30      0.40       471\n",
      "              clothing       0.60      0.28      0.38        86\n",
      "                 money       0.48      0.11      0.17       133\n",
      "        missing_people       0.75      0.05      0.09        64\n",
      "              refugees       0.39      0.07      0.12       189\n",
      "                 death       0.71      0.22      0.33       254\n",
      "             other_aid       0.31      0.09      0.14       698\n",
      "infrastructure_related       0.25      0.04      0.07       316\n",
      "             transport       0.60      0.12      0.19       250\n",
      "             buildings       0.55      0.19      0.29       254\n",
      "           electricity       0.68      0.14      0.24       119\n",
      "                 tools       0.00      0.00      0.00        32\n",
      "             hospitals       0.00      0.00      0.00        53\n",
      "                 shops       0.00      0.00      0.00        23\n",
      "           aid_centers       0.00      0.00      0.00        57\n",
      "  other_infrastructure       0.25      0.03      0.06       215\n",
      "       weather_related       0.71      0.56      0.63      1487\n",
      "                floods       0.65      0.24      0.35       461\n",
      "                 storm       0.63      0.42      0.51       488\n",
      "                  fire       0.78      0.13      0.22        54\n",
      "            earthquake       0.75      0.52      0.61       508\n",
      "                  cold       0.64      0.12      0.21       114\n",
      "         other_weather       0.47      0.06      0.11       278\n",
      "         direct_report       0.60      0.44      0.51      1028\n",
      "\n",
      "             micro avg       0.72      0.49      0.58     16801\n",
      "             macro avg       0.48      0.21      0.27     16801\n",
      "          weighted avg       0.66      0.49      0.54     16801\n",
      "           samples avg       0.59      0.44      0.45     16801\n",
      "\n"
     ]
    },
    {
     "name": "stderr",
     "output_type": "stream",
     "text": [
      "C:\\Users\\Abdullah\\Anaconda3\\envs\\tensorflowEnv\\lib\\site-packages\\sklearn\\metrics\\classification.py:1437: UndefinedMetricWarning: Precision and F-score are ill-defined and being set to 0.0 in labels with no predicted samples.\n",
      "  'precision', 'predicted', average, warn_for)\n",
      "C:\\Users\\Abdullah\\Anaconda3\\envs\\tensorflowEnv\\lib\\site-packages\\sklearn\\metrics\\classification.py:1439: UndefinedMetricWarning: Recall and F-score are ill-defined and being set to 0.0 in labels with no true samples.\n",
      "  'recall', 'true', average, warn_for)\n",
      "C:\\Users\\Abdullah\\Anaconda3\\envs\\tensorflowEnv\\lib\\site-packages\\sklearn\\metrics\\classification.py:1437: UndefinedMetricWarning: Precision and F-score are ill-defined and being set to 0.0 in samples with no predicted labels.\n",
      "  'precision', 'predicted', average, warn_for)\n",
      "C:\\Users\\Abdullah\\Anaconda3\\envs\\tensorflowEnv\\lib\\site-packages\\sklearn\\metrics\\classification.py:1439: UndefinedMetricWarning: Recall and F-score are ill-defined and being set to 0.0 in samples with no true labels.\n",
      "  'recall', 'true', average, warn_for)\n"
     ]
    }
   ],
   "source": [
    "print(classification_report(np.array(y_test,ndmin=2),np.array(ypred_logistic_regression,ndmin=2), labels=list(range(36)),target_names= label_names ))"
   ]
  },
  {
   "cell_type": "code",
   "execution_count": 69,
   "metadata": {},
   "outputs": [],
   "source": [
    "filename = 'ligisitc_regression_model.sav'\n",
    "pickle.dump(logitstic_regression, open(filename, 'wb'))"
   ]
  },
  {
   "cell_type": "code",
   "execution_count": null,
   "metadata": {},
   "outputs": [],
   "source": []
  },
  {
   "cell_type": "code",
   "execution_count": 56,
   "metadata": {},
   "outputs": [],
   "source": [
    "from sklearn.neural_network import MLPClassifier"
   ]
  },
  {
   "cell_type": "code",
   "execution_count": 58,
   "metadata": {},
   "outputs": [],
   "source": [
    "pipeline_MLP = Pipeline([\n",
    "    ('bow',CountVectorizer(tokenizer=tokenize)),\n",
    "    ('tfidf',TfidfTransformer()),\n",
    "    ('classifier',MLPClassifier() ) \n",
    "])"
   ]
  },
  {
   "cell_type": "code",
   "execution_count": 59,
   "metadata": {},
   "outputs": [
    {
     "name": "stderr",
     "output_type": "stream",
     "text": [
      "C:\\Users\\Abdullah\\Anaconda3\\envs\\tensorflowEnv\\lib\\site-packages\\sklearn\\neural_network\\multilayer_perceptron.py:566: ConvergenceWarning: Stochastic Optimizer: Maximum iterations (200) reached and the optimization hasn't converged yet.\n",
      "  % self.max_iter, ConvergenceWarning)\n"
     ]
    }
   ],
   "source": [
    "MLP = pipeline_MLP.fit(X_train,y_train)"
   ]
  },
  {
   "cell_type": "code",
   "execution_count": 60,
   "metadata": {},
   "outputs": [],
   "source": [
    "ypred_MLP = MLP.predict(X_test)"
   ]
  },
  {
   "cell_type": "code",
   "execution_count": 61,
   "metadata": {},
   "outputs": [
    {
     "name": "stdout",
     "output_type": "stream",
     "text": [
      "                        precision    recall  f1-score   support\n",
      "\n",
      "               related       0.85      0.86      0.86      4020\n",
      "               request       0.57      0.60      0.59       908\n",
      "                 offer       0.33      0.10      0.15        21\n",
      "           aid_related       0.65      0.64      0.65      2205\n",
      "          medical_help       0.35      0.32      0.34       416\n",
      "      medical_products       0.47      0.33      0.38       267\n",
      "     search_and_rescue       0.42      0.25      0.32       163\n",
      "              security       0.06      0.02      0.03        86\n",
      "              military       0.60      0.40      0.48       169\n",
      "           child_alone       0.00      0.00      0.00         0\n",
      "                 water       0.70      0.59      0.64       311\n",
      "                  food       0.70      0.60      0.65       603\n",
      "               shelter       0.64      0.53      0.58       471\n",
      "              clothing       0.78      0.36      0.49        86\n",
      "                 money       0.53      0.32      0.40       133\n",
      "        missing_people       0.36      0.19      0.25        64\n",
      "              refugees       0.44      0.30      0.35       189\n",
      "                 death       0.66      0.45      0.54       254\n",
      "             other_aid       0.29      0.27      0.28       698\n",
      "infrastructure_related       0.18      0.14      0.16       316\n",
      "             transport       0.33      0.27      0.30       250\n",
      "             buildings       0.54      0.43      0.48       254\n",
      "           electricity       0.58      0.28      0.38       119\n",
      "                 tools       0.00      0.00      0.00        32\n",
      "             hospitals       0.14      0.04      0.06        53\n",
      "                 shops       0.00      0.00      0.00        23\n",
      "           aid_centers       0.00      0.00      0.00        57\n",
      "  other_infrastructure       0.20      0.12      0.15       215\n",
      "       weather_related       0.69      0.65      0.67      1487\n",
      "                floods       0.63      0.52      0.57       461\n",
      "                 storm       0.63      0.55      0.58       488\n",
      "                  fire       0.58      0.28      0.38        54\n",
      "            earthquake       0.74      0.63      0.68       508\n",
      "                  cold       0.60      0.25      0.35       114\n",
      "         other_weather       0.25      0.16      0.19       278\n",
      "         direct_report       0.49      0.52      0.51      1028\n",
      "\n",
      "             micro avg       0.64      0.58      0.61     16801\n",
      "             macro avg       0.44      0.33      0.37     16801\n",
      "          weighted avg       0.62      0.58      0.60     16801\n",
      "           samples avg       0.53      0.48      0.45     16801\n",
      "\n"
     ]
    },
    {
     "name": "stderr",
     "output_type": "stream",
     "text": [
      "C:\\Users\\Abdullah\\Anaconda3\\envs\\tensorflowEnv\\lib\\site-packages\\sklearn\\metrics\\classification.py:1437: UndefinedMetricWarning: Precision and F-score are ill-defined and being set to 0.0 in labels with no predicted samples.\n",
      "  'precision', 'predicted', average, warn_for)\n",
      "C:\\Users\\Abdullah\\Anaconda3\\envs\\tensorflowEnv\\lib\\site-packages\\sklearn\\metrics\\classification.py:1439: UndefinedMetricWarning: Recall and F-score are ill-defined and being set to 0.0 in labels with no true samples.\n",
      "  'recall', 'true', average, warn_for)\n",
      "C:\\Users\\Abdullah\\Anaconda3\\envs\\tensorflowEnv\\lib\\site-packages\\sklearn\\metrics\\classification.py:1437: UndefinedMetricWarning: Precision and F-score are ill-defined and being set to 0.0 in samples with no predicted labels.\n",
      "  'precision', 'predicted', average, warn_for)\n",
      "C:\\Users\\Abdullah\\Anaconda3\\envs\\tensorflowEnv\\lib\\site-packages\\sklearn\\metrics\\classification.py:1439: UndefinedMetricWarning: Recall and F-score are ill-defined and being set to 0.0 in samples with no true labels.\n",
      "  'recall', 'true', average, warn_for)\n"
     ]
    }
   ],
   "source": [
    "print(classification_report(np.array(y_test,ndmin=2),np.array(ypred_MLP,ndmin=2), labels=list(range(36)),target_names= label_names ))"
   ]
  },
  {
   "cell_type": "code",
   "execution_count": 66,
   "metadata": {},
   "outputs": [],
   "source": [
    "filename = 'MLP_model.sav'\n",
    "pickle.dump(MLP, open(filename, 'wb'))"
   ]
  },
  {
   "cell_type": "markdown",
   "metadata": {},
   "source": [
    "### 9. Export your model as a pickle file"
   ]
  },
  {
   "cell_type": "code",
   "execution_count": 68,
   "metadata": {},
   "outputs": [],
   "source": [
    "filename = 'knn_model.sav'\n",
    "pickle.dump(clf, open(filename, 'wb'))\n"
   ]
  },
  {
   "cell_type": "markdown",
   "metadata": {},
   "source": [
    "### 10. Use this notebook to complete `train.py`\n",
    "Use the template file attached in the Resources folder to write a script that runs the steps above to create a database and export a model based on a new dataset specified by the user."
   ]
  },
  {
   "cell_type": "code",
   "execution_count": null,
   "metadata": {},
   "outputs": [],
   "source": []
  }
 ],
 "metadata": {
  "kernelspec": {
   "display_name": "Python 3",
   "language": "python",
   "name": "python3"
  },
  "language_info": {
   "codemirror_mode": {
    "name": "ipython",
    "version": 3
   },
   "file_extension": ".py",
   "mimetype": "text/x-python",
   "name": "python",
   "nbconvert_exporter": "python",
   "pygments_lexer": "ipython3",
   "version": "3.5.5"
  }
 },
 "nbformat": 4,
 "nbformat_minor": 2
}
